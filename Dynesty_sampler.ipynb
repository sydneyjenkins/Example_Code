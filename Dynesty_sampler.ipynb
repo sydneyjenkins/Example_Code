{
 "cells": [
  {
   "cell_type": "code",
   "execution_count": 1,
   "metadata": {},
   "outputs": [],
   "source": [
    "import numpy as np\n",
    "import dynesty as dn"
   ]
  },
  {
   "cell_type": "code",
   "execution_count": 2,
   "metadata": {},
   "outputs": [],
   "source": [
    "#Two functions taken from dynesty code\n",
    "#https://github.com/joshspeagle/dynesty\n",
    "def _quantile(x, q, weights=None):\n",
    "    \"\"\"\n",
    "    Compute (weighted) quantiles from an input set of samples.\n",
    "    Parameters\n",
    "    ----------\n",
    "    x : `~numpy.ndarray` with shape (nsamps,)\n",
    "        Input samples.\n",
    "    q : `~numpy.ndarray` with shape (nquantiles,)\n",
    "       The list of quantiles to compute from `[0., 1.]`.\n",
    "    weights : `~numpy.ndarray` with shape (nsamps,), optional\n",
    "        The associated weight from each sample.\n",
    "    Returns\n",
    "    -------\n",
    "    quantiles : `~numpy.ndarray` with shape (nquantiles,) \n",
    "        The weighted sample quantiles computed at `q`.\n",
    "    \"\"\"\n",
    "\n",
    "    # Initial check.\n",
    "    x = np.atleast_1d(x)\n",
    "    q = np.atleast_1d(q)\n",
    "\n",
    "    # Quantile check.\n",
    "    if np.any(q < 0.0) or np.any(q > 1.0):\n",
    "        raise ValueError(\"Quantiles must be between 0. and 1.\")\n",
    "\n",
    "    if weights is None:\n",
    "        # If no weights provided, this simply calls `np.percentile`.\n",
    "        return np.percentile(x, list(100.0 * q))\n",
    "    else:\n",
    "        # If weights are provided, compute the weighted quantiles.\n",
    "        weights = np.atleast_1d(weights)\n",
    "        if len(x) != len(weights):\n",
    "            raise ValueError(\"Dimension mismatch: len(weights) != len(x).\")\n",
    "        idx = np.argsort(x)  # sort samples\n",
    "        sw = weights[idx]  # sort weights\n",
    "        cdf = np.cumsum(sw)[:-1]  # compute CDF\n",
    "        cdf /= cdf[-1]  # normalize CDF\n",
    "        cdf = np.append(0, cdf)  # ensure proper span\n",
    "        quantiles = np.interp(q, cdf, x[idx]).tolist()\n",
    "    return quantiles\n",
    "\n",
    "def quarts(results):\n",
    "    samples = results['samples']\n",
    "    try:\n",
    "        weights = np.exp(results['logwt'] - results['logz'][-1])\n",
    "    except:\n",
    "        weights = results['weights']\n",
    "    samples = np.atleast_1d(samples)\n",
    "    if len(samples.shape) == 1:\n",
    "        samples = np.atleast_2d(samples)\n",
    "    else:\n",
    "        assert len(samples.shape) == 2, \"Samples must be 1- or 2-D.\"\n",
    "        samples = samples.T\n",
    "    med = []\n",
    "    for i, x in enumerate(samples):\n",
    "        #qm = _quantile(x, [0.5], weights=weights)\n",
    "        qm = _quantile(x, [0.16, 0.5, 0.84], weights=weights)\n",
    "        med.append(qm)\n",
    "    return med"
   ]
  },
  {
   "cell_type": "code",
   "execution_count": 3,
   "metadata": {},
   "outputs": [],
   "source": [
    "#Generate fake data \n",
    "def constant_data(noise, v_sys):\n",
    "    return np.random.normal(v_sys,noise,100)\n",
    "\n",
    "def var_data(noise, v_sys, v_dev):\n",
    "    data = np.random.normal(v_sys,v_dev,100)\n",
    "    for i in range(0,len(data)): \n",
    "        data[i] = np.random.normal(data[i],noise,1)\n",
    "    return data"
   ]
  },
  {
   "cell_type": "code",
   "execution_count": 4,
   "metadata": {},
   "outputs": [],
   "source": [
    "ndim_var = 2\n",
    "ndim_constant = 1\n",
    "\n",
    "#Functions to optimize\n",
    "def test_var(x): \n",
    "    v_sys = x[0]\n",
    "    s = x[1]\n",
    "    return(-.5*(np.sum(np.log((rv_err_s**2)+(s**2)))+np.sum(((rv_s-v_sys)**2)/((rv_err_s**2)+(s**2)))))\n",
    "    \n",
    "def test_c(x):\n",
    "    v_sys = x[0]\n",
    "    return(-.5*(np.sum(np.log(rv_err_s**2))+np.sum(((rv_s-v_sys)**2)/(rv_err_s**2))))\n",
    "\n",
    "#Uniform priors\n",
    "def p_c(u): \n",
    "    v_sys = 400. * (2. * u - 1.)\n",
    "    return v_sys\n",
    "\n",
    "def p_v(u): \n",
    "    v_sys, s = u\n",
    "    v_sys = 400. * (2. * v_sys - 1.)\n",
    "    s =  25. * s \n",
    "    return v_sys, s"
   ]
  },
  {
   "cell_type": "code",
   "execution_count": 9,
   "metadata": {},
   "outputs": [
    {
     "name": "stderr",
     "output_type": "stream",
     "text": [
      "iter: 3626 | +500 | bound: 5 | nc: 1 | ncall: 21336 | eff(%): 19.338 | loglstar:   -inf < -405.608 <    inf | logz: -411.948 +/-  0.138 | dlogz:  0.001 >  0.509                                      "
     ]
    },
    {
     "name": "stdout",
     "output_type": "stream",
     "text": [
      "Results using variable + noise model:\n",
      "V_sys = 59, Variability = 10\n",
      "Results using noise model:\n",
      "V_sys = 59\n"
     ]
    }
   ],
   "source": [
    "#Choose to produce data from variable+noise (var_data) or noise (constant_data) model\n",
    "v_sys = 60\n",
    "noise = 5\n",
    "variability = 10\n",
    "#rv_s = constant_data(noise, v_sys)\n",
    "rv_s = var_data(noise,v_sys,variability)\n",
    "rv_err_s = np.full(len(rv_s),noise)\n",
    "\n",
    "#Calculate \n",
    "sampler_var = dn.NestedSampler(test_var, p_v, ndim_var) \n",
    "sampler_c = dn.NestedSampler(test_c, p_c, ndim_constant)\n",
    "   \n",
    "sampler_var.run_nested() \n",
    "results_var = sampler_var.results\n",
    "logz_var = results_var['logz'][-1]\n",
    "res_var = quarts(results_var)\n",
    "    \n",
    "sampler_c.run_nested()\n",
    "results_c = sampler_c.results\n",
    "logz_c = results_c['logz'][-1]\n",
    "res_c = quarts(results_c)\n",
    "    \n",
    "#Print results\n",
    "print('Results using variable + noise model:')\n",
    "print('V_sys = %d, Variability = %d' % (res_var[0][1], res_var[1][1]))\n",
    "print('Results using noise model:')\n",
    "print('V_sys = %d' % res_c[0][1])"
   ]
  },
  {
   "cell_type": "code",
   "execution_count": null,
   "metadata": {},
   "outputs": [],
   "source": []
  }
 ],
 "metadata": {
  "kernelspec": {
   "display_name": "Python 3",
   "language": "python",
   "name": "python3"
  },
  "language_info": {
   "codemirror_mode": {
    "name": "ipython",
    "version": 3
   },
   "file_extension": ".py",
   "mimetype": "text/x-python",
   "name": "python",
   "nbconvert_exporter": "python",
   "pygments_lexer": "ipython3",
   "version": "3.6.4"
  }
 },
 "nbformat": 4,
 "nbformat_minor": 1
}
